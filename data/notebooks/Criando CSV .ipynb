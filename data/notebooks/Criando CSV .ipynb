{
 "cells": [
  {
   "cell_type": "code",
   "execution_count": 1,
   "metadata": {},
   "outputs": [],
   "source": [
    "# Imports\n",
    "from pyspark.sql import Row"
   ]
  },
  {
   "cell_type": "code",
   "execution_count": 13,
   "metadata": {},
   "outputs": [
    {
     "name": "stdout",
     "output_type": "stream",
     "text": [
      "root\n",
      " |-- cod: long (nullable = true)\n",
      " |-- nome: string (nullable = true)\n",
      "\n",
      "None\n",
      "+---+------+\n",
      "|cod|  nome|\n",
      "+---+------+\n",
      "|  1|Marcos|\n",
      "|  2|  Gois|\n",
      "|  3| Silva|\n",
      "+---+------+\n",
      "\n"
     ]
    }
   ],
   "source": [
    "# Criando Row\n",
    "Name = Row(\"cod\",\"nome\")\n",
    "data = [Name(1,\"Marcos\"),Name(2,\"Gois\"),Name(3,\"Silva\")]\n",
    "# criando data frame aprtir do data\n",
    "data_frame = spark.createDataFrame(data)\n",
    "print(data_frame.printSchema())\n",
    "data_frame.show()\n",
    "\n"
   ]
  },
  {
   "cell_type": "code",
   "execution_count": 16,
   "metadata": {},
   "outputs": [],
   "source": [
    "# Salvando Data frame como csv no hdfs\n",
    "data_frame.write.csv(\"/user/marcos/teste_csv\",mode=\"overwrite\", header=\"true\")"
   ]
  },
  {
   "cell_type": "markdown",
   "metadata": {},
   "source": [
    "Leitura de Dados"
   ]
  },
  {
   "cell_type": "code",
   "execution_count": 17,
   "metadata": {},
   "outputs": [
    {
     "name": "stdout",
     "output_type": "stream",
     "text": [
      "+---+------+\n",
      "|cod|  nome|\n",
      "+---+------+\n",
      "|  2|  Gois|\n",
      "|  3| Silva|\n",
      "|  1|Marcos|\n",
      "+---+------+\n",
      "\n"
     ]
    }
   ],
   "source": [
    "spark.read.csv(\"/user/marcos/teste_csv\",header='true',ignoreLeadingWhiteSpace='true' ).show()"
   ]
  },
  {
   "cell_type": "code",
   "execution_count": null,
   "metadata": {},
   "outputs": [],
   "source": []
  }
 ],
 "metadata": {
  "kernelspec": {
   "display_name": "PySpark",
   "language": "python",
   "name": "pyspark"
  },
  "language_info": {
   "codemirror_mode": {
    "name": "ipython",
    "version": 3
   },
   "file_extension": ".py",
   "mimetype": "text/x-python",
   "name": "python",
   "nbconvert_exporter": "python",
   "pygments_lexer": "ipython3",
   "version": "3.6.10"
  }
 },
 "nbformat": 4,
 "nbformat_minor": 2
}
