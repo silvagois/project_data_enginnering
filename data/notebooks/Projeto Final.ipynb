{
 "cells": [
  {
   "cell_type": "markdown",
   "metadata": {},
   "source": [
    "### Criando um diretorio projeto_final dentro do hdfs para inserir os arquivos"
   ]
  },
  {
   "cell_type": "code",
   "execution_count": 1,
   "metadata": {},
   "outputs": [
    {
     "name": "stdout",
     "output_type": "stream",
     "text": [
      "Found 22 items\r\n",
      "drwxr-xr-x   - root supergroup          0 2021-06-23 21:55 /user/marcos/data\r\n",
      "drwxr-xr-x   - root supergroup          0 2021-06-27 01:02 /user/marcos/juros_selic_formatado\r\n",
      "drwxr-xr-x   - root supergroup          0 2021-07-07 00:41 /user/marcos/kafka\r\n",
      "drwxr-xr-x   - root supergroup          0 2021-07-06 23:47 /user/marcos/kafka_checkpoint\r\n",
      "drwxr-xr-x   - root supergroup          0 2021-07-07 00:02 /user/marcos/kafka_checkpoint1\r\n",
      "drwxr-xr-x   - root supergroup          0 2021-07-07 00:55 /user/marcos/kafka_checkpoint2\r\n",
      "drwxr-xr-x   - root supergroup          0 2021-06-25 00:18 /user/marcos/logs_count_word_5\r\n",
      "drwxr-xr-x   - root supergroup          0 2021-06-24 23:44 /user/marcos/logs_palavras\r\n",
      "drwxr-xr-x   - root supergroup          0 2021-06-25 22:14 /user/marcos/names_us_orc\r\n",
      "drwxr-xr-x   - root supergroup          0 2021-06-25 23:54 /user/marcos/names_us_parquet\r\n",
      "drwxr-xr-x   - root supergroup          0 2021-07-11 23:24 /user/marcos/projeto_final\r\n",
      "drwxr-xr-x   - root supergroup          0 2021-07-01 22:46 /user/marcos/projeto_python\r\n",
      "drwxr-xr-x   - root supergroup          0 2021-07-02 00:13 /user/marcos/projeto_scala\r\n",
      "drwxr-xr-x   - root supergroup          0 2021-06-27 19:56 /user/marcos/relatorio_anual\r\n",
      "drwxr-xr-x   - root supergroup          0 2021-07-02 19:06 /user/marcos/stream\r\n",
      "drwxr-xr-x   - root supergroup          0 2021-07-06 00:47 /user/marcos/stream_iris\r\n",
      "drwxr-xr-x   - root supergroup          0 2021-06-26 22:08 /user/marcos/teste_csv\r\n",
      "drwxr-xr-x   - root supergroup          0 2021-07-02 19:04 /user/marcos/word_count-1625252640000\r\n",
      "drwxr-xr-x   - root supergroup          0 2021-07-02 19:04 /user/marcos/word_count-1625252650000\r\n",
      "drwxr-xr-x   - root supergroup          0 2021-07-02 19:04 /user/marcos/word_count-1625252660000\r\n",
      "drwxr-xr-x   - root supergroup          0 2021-07-02 19:04 /user/marcos/word_count-1625252670000\r\n",
      "drwxr-xr-x   - root supergroup          0 2021-07-02 19:04 /user/marcos/word_count-1625252680000\r\n"
     ]
    }
   ],
   "source": [
    "# Criando diretorio dentro do HDFS projeto Final \n",
    "# Visualizando estrutura de diretorio dentro do usuario marcos\n",
    "!hdfs dfs -ls /user/marcos/\n"
   ]
  },
  {
   "cell_type": "code",
   "execution_count": 2,
   "metadata": {},
   "outputs": [],
   "source": [
    "# Criando diretorio projeto_final\n",
    "!hdfs dfs -mkdir -p /user/marcos/projeto_final/"
   ]
  },
  {
   "cell_type": "code",
   "execution_count": 4,
   "metadata": {},
   "outputs": [],
   "source": [
    "!hdfs dfs -ls /user/marcos/projeto_final/"
   ]
  },
  {
   "cell_type": "markdown",
   "metadata": {},
   "source": [
    "### Enviando arquivos local para o hdfs diretorio /user/marcos/projeto_final/"
   ]
  },
  {
   "cell_type": "code",
   "execution_count": 13,
   "metadata": {},
   "outputs": [
    {
     "name": "stdout",
     "output_type": "stream",
     "text": [
      "put: `/C:/Users/marco/Documents/Semantix/spark/spark/input/exercises-data/HIST_PAINEL_COVIDBR_2020_Parte1_06jul2021.csv/': No such file or directory\r\n"
     ]
    }
   ],
   "source": [
    "# Tive que enviar via terminal no namenode pois o iput estava mapeado no arquivo docker-compose-parcial.yml!hdfs dfs -put -f /input/exercises-data/HIST_PAINEL_COVIDBR_2020_Parte1_06jul2021.csv/ /user/marcos/projeto_final/\n",
    "\n",
    "!hdfs dfs -put -f /input/exercises-data/HIST_PAINEL_COVIDBR_2020_Parte2_06jul2021.csv/ /user/marcos/projeto_final/!\n",
    "\n",
    "!hdfs dfs -put -f /input/exercises-data/HIST_PAINEL_COVIDBR_2021_Parte1_06jul2021.csv/ /user/marcos/projeto_final/\n",
    "\n",
    "!hdfs dfs -put -f /input/exercises-data/HIST_PAINEL_COVIDBR_2021_Parte2_06jul2021.csv/ /user/marcos/projeto_final/\n"
   ]
  },
  {
   "cell_type": "code",
   "execution_count": 14,
   "metadata": {},
   "outputs": [
    {
     "name": "stdout",
     "output_type": "stream",
     "text": [
      "Found 4 items\r\n",
      "-rw-r--r--   3 root supergroup   62492959 2021-07-12 00:02 /user/marcos/projeto_final/HIST_PAINEL_COVIDBR_2020_Parte1_06jul2021.csv\r\n",
      "-rw-r--r--   3 root supergroup   76520681 2021-07-12 00:09 /user/marcos/projeto_final/HIST_PAINEL_COVIDBR_2020_Parte2_06jul2021.csv\r\n",
      "-rw-r--r--   3 root supergroup   91120916 2021-07-12 00:10 /user/marcos/projeto_final/HIST_PAINEL_COVIDBR_2021_Parte1_06jul2021.csv\r\n",
      "-rw-r--r--   3 root supergroup    3046774 2021-07-12 00:10 /user/marcos/projeto_final/HIST_PAINEL_COVIDBR_2021_Parte2_06jul2021.csv\r\n"
     ]
    }
   ],
   "source": [
    "!hdfs dfs -ls /user/marcos/projeto_final/"
   ]
  },
  {
   "cell_type": "code",
   "execution_count": 15,
   "metadata": {},
   "outputs": [
    {
     "name": "stdout",
     "output_type": "stream",
     "text": [
      "regiao;estado;municipio;coduf;codmun;codRegiaoSaude;nomeRegiaoSaude;data;semanaEpi;populacaoTCU2019;casosAcumulado;casosNovos;obitosAcumulado;obitosNovos;Recuperadosnovos;emAcompanhamentoNovos;interior/metropolitana\r",
      "\r\n",
      "Brasil;;;76;;;;2020-02-25;9;210147125;0;0;0;0;;;\r",
      "\r\n",
      "Brasil;;;76;;;;2020-02-26;9;210147125;1;1;0;0;;;\r",
      "\r\n",
      "cat: Unable to write to output stream.\r\n"
     ]
    }
   ],
   "source": [
    "# Visualizando direto no HDFS\n",
    "!hdfs dfs -cat /user/marcos/projeto_final/HIST_PAINEL_COVIDBR_2020_Parte1_06jul2021.csv| head -n 3"
   ]
  },
  {
   "cell_type": "code",
   "execution_count": null,
   "metadata": {},
   "outputs": [],
   "source": []
  }
 ],
 "metadata": {
  "kernelspec": {
   "display_name": "PySpark",
   "language": "python",
   "name": "pyspark"
  },
  "language_info": {
   "codemirror_mode": {
    "name": "ipython",
    "version": 3
   },
   "file_extension": ".py",
   "mimetype": "text/x-python",
   "name": "python",
   "nbconvert_exporter": "python",
   "pygments_lexer": "ipython3",
   "version": "3.6.10"
  }
 },
 "nbformat": 4,
 "nbformat_minor": 2
}
