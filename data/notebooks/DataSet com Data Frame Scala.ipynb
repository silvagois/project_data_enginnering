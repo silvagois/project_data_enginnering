{
 "cells": [
  {
   "cell_type": "code",
   "execution_count": 3,
   "metadata": {},
   "outputs": [
    {
     "data": {
      "text/plain": [
       "names_us: org.apache.spark.sql.DataFrame = [_c0: string, _c1: string ... 1 more field]\n"
      ]
     },
     "execution_count": 3,
     "metadata": {},
     "output_type": "execute_result"
    }
   ],
   "source": [
    " val names_us = spark.read.csv(\"hdfs://namenode:8020/user/marcos/data/exercises-data/names/\")\n",
    " "
   ]
  },
  {
   "cell_type": "code",
   "execution_count": 5,
   "metadata": {},
   "outputs": [
    {
     "name": "stdout",
     "output_type": "stream",
     "text": [
      "root\n",
      " |-- _c0: string (nullable = true)\n",
      " |-- _c1: string (nullable = true)\n",
      " |-- _c2: string (nullable = true)\n",
      "\n"
     ]
    }
   ],
   "source": [
    "names_us.printSchema()"
   ]
  },
  {
   "cell_type": "code",
   "execution_count": 6,
   "metadata": {},
   "outputs": [
    {
     "name": "stdout",
     "output_type": "stream",
     "text": [
      "+--------+---+-----+\n",
      "|     _c0|_c1|  _c2|\n",
      "+--------+---+-----+\n",
      "|    Emma|  F|18809|\n",
      "|Isabella|  F|18612|\n",
      "|   Emily|  F|17429|\n",
      "|  Olivia|  F|17078|\n",
      "|     Ava|  F|17035|\n",
      "+--------+---+-----+\n",
      "only showing top 5 rows\n",
      "\n"
     ]
    }
   ],
   "source": [
    "names_us.show(5)"
   ]
  },
  {
   "cell_type": "code",
   "execution_count": 8,
   "metadata": {},
   "outputs": [
    {
     "data": {
      "text/plain": [
       "defined class Nascimento\n"
      ]
     },
     "execution_count": 8,
     "metadata": {},
     "output_type": "execute_result"
    }
   ],
   "source": [
    "case class Nascimento (nome: String, sexo: String, quantidade: Int)"
   ]
  },
  {
   "cell_type": "code",
   "execution_count": 10,
   "metadata": {},
   "outputs": [
    {
     "data": {
      "text/plain": [
       "import org.apache.spark.sql.Encoders\n",
       "schema_names: org.apache.spark.sql.types.StructType = StructType(StructField(nome,StringType,true), StructField(sexo,StringType,true), StructField(quantidade,IntegerType,false))\n"
      ]
     },
     "execution_count": 10,
     "metadata": {},
     "output_type": "execute_result"
    }
   ],
   "source": [
    "import org.apache.spark.sql.Encoders\n",
    "val schema_names = Encoders.product[Nascimento].schema"
   ]
  },
  {
   "cell_type": "code",
   "execution_count": 13,
   "metadata": {},
   "outputs": [
    {
     "data": {
      "text/plain": [
       "names_ds: org.apache.spark.sql.DataFrame = [nome: string, sexo: string ... 1 more field]\n"
      ]
     },
     "execution_count": 13,
     "metadata": {},
     "output_type": "execute_result"
    }
   ],
   "source": [
    "val names_ds = spark.read.schema(schema_names).csv(\"hdfs://namenode:8020/user/marcos/data/exercises-data/names/\")"
   ]
  },
  {
   "cell_type": "code",
   "execution_count": 14,
   "metadata": {},
   "outputs": [
    {
     "data": {
      "text/plain": [
       "names_ds: org.apache.spark.sql.Dataset[Nascimento] = [nome: string, sexo: string ... 1 more field]\n"
      ]
     },
     "execution_count": 14,
     "metadata": {},
     "output_type": "execute_result"
    }
   ],
   "source": [
    "val names_ds = spark.read.schema(schema_names).csv(\"hdfs://namenode:8020/user/marcos/data/exercises-data/names/\").as[Nascimento]"
   ]
  },
  {
   "cell_type": "code",
   "execution_count": 15,
   "metadata": {},
   "outputs": [
    {
     "name": "stdout",
     "output_type": "stream",
     "text": [
      "root\n",
      " |-- nome: string (nullable = true)\n",
      " |-- sexo: string (nullable = true)\n",
      " |-- quantidade: integer (nullable = true)\n",
      "\n"
     ]
    }
   ],
   "source": [
    "names_ds.printSchema()"
   ]
  },
  {
   "cell_type": "code",
   "execution_count": 16,
   "metadata": {},
   "outputs": [],
   "source": [
    "names_ds.write.save(\"hdfs://namenode:8020/user/marcos/names_us_parquet\")"
   ]
  },
  {
   "cell_type": "code",
   "execution_count": 18,
   "metadata": {},
   "outputs": [
    {
     "name": "stdout",
     "output_type": "stream",
     "text": [
      "+---------+----+----------+\n",
      "|     nome|sexo|quantidade|\n",
      "+---------+----+----------+\n",
      "|     Emma|   F|     18809|\n",
      "| Isabella|   F|     18612|\n",
      "|    Emily|   F|     17429|\n",
      "|   Olivia|   F|     17078|\n",
      "|      Ava|   F|     17035|\n",
      "|  Madison|   F|     17027|\n",
      "|   Sophia|   F|     16081|\n",
      "|  Abigail|   F|     15081|\n",
      "|Elizabeth|   F|     12002|\n",
      "|    Chloe|   F|     11824|\n",
      "| Samantha|   F|     11178|\n",
      "|  Addison|   F|     10759|\n",
      "|  Natalie|   F|     10199|\n",
      "|      Mia|   F|     10168|\n",
      "|   Alexis|   F|      9721|\n",
      "|   Alyssa|   F|      9635|\n",
      "|   Hannah|   F|      9560|\n",
      "|   Ashley|   F|      9403|\n",
      "|     Ella|   F|      9349|\n",
      "|    Sarah|   F|      9042|\n",
      "+---------+----+----------+\n",
      "only showing top 20 rows\n",
      "\n"
     ]
    }
   ],
   "source": [
    "spark.read.load(\"hdfs://namenode:8020/user/marcos/names_us_parquet\").show()"
   ]
  }
 ],
 "metadata": {
  "kernelspec": {
   "display_name": "spylon-kernel",
   "language": "scala",
   "name": "spylon-kernel"
  },
  "language_info": {
   "codemirror_mode": "text/x-scala",
   "file_extension": ".scala",
   "help_links": [
    {
     "text": "MetaKernel Magics",
     "url": "https://metakernel.readthedocs.io/en/latest/source/README.html"
    }
   ],
   "mimetype": "text/x-scala",
   "name": "scala",
   "pygments_lexer": "scala",
   "version": "0.4.1"
  }
 },
 "nbformat": 4,
 "nbformat_minor": 2
}
