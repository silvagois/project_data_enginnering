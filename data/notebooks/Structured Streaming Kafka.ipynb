{
 "cells": [
  {
   "cell_type": "code",
   "execution_count": 1,
   "metadata": {},
   "outputs": [],
   "source": [
    "# 1. Ler o tópico do kafka “topic-kvspark” em modo batch\n",
    "from pyspark.sql.functions import *\n"
   ]
  },
  {
   "cell_type": "code",
   "execution_count": 2,
   "metadata": {},
   "outputs": [],
   "source": [
    "# batch\n",
    "topic_read = spark.read\\\n",
    "    .format(\"kafka\")\\\n",
    "    .option(\"kafka.bootstrap.servers\",\"kafka:9092\")\\\n",
    "    .option(\"subscribe\",\"topic-kvspark\")\\\n",
    "    .load()"
   ]
  },
  {
   "cell_type": "markdown",
   "metadata": {},
   "source": [
    "**2. Visualizar o schema do tópico**"
   ]
  },
  {
   "cell_type": "code",
   "execution_count": 3,
   "metadata": {},
   "outputs": [
    {
     "name": "stdout",
     "output_type": "stream",
     "text": [
      "root\n",
      " |-- key: binary (nullable = true)\n",
      " |-- value: binary (nullable = true)\n",
      " |-- topic: string (nullable = true)\n",
      " |-- partition: integer (nullable = true)\n",
      " |-- offset: long (nullable = true)\n",
      " |-- timestamp: timestamp (nullable = true)\n",
      " |-- timestampType: integer (nullable = true)\n",
      "\n"
     ]
    }
   ],
   "source": [
    "# o topico criado aceita todos os comandos em batch\n",
    "# para o streaming temos que alterar o key e value para string\n",
    "# 2. Visualizar o schema do tópico\n",
    "\n",
    "topic_read.printSchema()"
   ]
  },
  {
   "cell_type": "markdown",
   "metadata": {},
   "source": [
    "**3. Visualizar o tópico com o campo key e value convertidos em string**"
   ]
  },
  {
   "cell_type": "code",
   "execution_count": 4,
   "metadata": {},
   "outputs": [
    {
     "name": "stdout",
     "output_type": "stream",
     "text": [
      "+-------+--------------------+\n",
      "|    key|               value|\n",
      "+-------+--------------------+\n",
      "|   [31]|       [4D 73 67 31]|\n",
      "|   [31]|       [4D 53 47 32]|\n",
      "|   [33]|                [64]|\n",
      "|   [34]|                [73]|\n",
      "|   [37]|[61 73 64 66 2C 3...|\n",
      "|   [38]|[48 65 6C 6C 6F 2...|\n",
      "|   [39]|[56 61 69 20 63 7...|\n",
      "|   [31]|          [6D 73 67]|\n",
      "|   [31]|                [61]|\n",
      "|   [31]|                [62]|\n",
      "|   [31]|                [63]|\n",
      "|   [31]|                [64]|\n",
      "|   [31]|                [65]|\n",
      "|   [31]|             [65 66]|\n",
      "|   [31]|                [66]|\n",
      "|   [31]|             [67 2C]|\n",
      "|   [34]|                [61]|\n",
      "|   [34]|                [35]|\n",
      "|[64 34]|             [64 35]|\n",
      "|   null|[74 65 73 74 65 2...|\n",
      "+-------+--------------------+\n",
      "only showing top 20 rows\n",
      "\n"
     ]
    }
   ],
   "source": [
    "# 3. Visualizar o tópico com o campo key e value convertidos em string\n",
    "# Mostrando o topico em binario\n",
    "topic_string = topic_read.select(col(\"key\"),col(\"value\"))\n",
    "topic_string.show()"
   ]
  },
  {
   "cell_type": "code",
   "execution_count": 5,
   "metadata": {},
   "outputs": [
    {
     "name": "stdout",
     "output_type": "stream",
     "text": [
      "+----+-------------+\n",
      "| key|        value|\n",
      "+----+-------------+\n",
      "|   1|         Msg1|\n",
      "|   1|         MSG2|\n",
      "|   3|            d|\n",
      "|   4|            s|\n",
      "|   7|  asdf,75,fds|\n",
      "|   8|  Hello World|\n",
      "|   9|Vai curintcha|\n",
      "|   1|          msg|\n",
      "|   1|            a|\n",
      "|   1|            b|\n",
      "|   1|            c|\n",
      "|   1|            d|\n",
      "|   1|            e|\n",
      "|   1|           ef|\n",
      "|   1|            f|\n",
      "|   1|           g,|\n",
      "|   4|            a|\n",
      "|   4|            5|\n",
      "|  d4|           d5|\n",
      "|null|    teste 123|\n",
      "+----+-------------+\n",
      "only showing top 20 rows\n",
      "\n"
     ]
    }
   ],
   "source": [
    "# Alterando para STRING e mostrando mensagem em string\n",
    "topic_string = topic_read.select(col(\"key\").cast(\"string\"),col(\"value\").cast(\"string\"))\n",
    "topic_string.show()"
   ]
  },
  {
   "cell_type": "markdown",
   "metadata": {},
   "source": [
    "**4. Ler o tópico do kafka “topic-kvspark” em modo streaming**"
   ]
  },
  {
   "cell_type": "code",
   "execution_count": 6,
   "metadata": {},
   "outputs": [],
   "source": [
    "# Lendo em modo Streaming\n",
    "topic_read_streaming = spark.readStream\\\n",
    "    .format(\"kafka\")\\\n",
    "    .option(\"kafka.bootstrap.servers\",\"kafka:9092\")\\\n",
    "    .option(\"subscribe\",\"topic-kvspark\")\\\n",
    "    .option(\"startingOffsets\",\"earliest\")\\\n",
    "    .load()"
   ]
  },
  {
   "cell_type": "markdown",
   "metadata": {},
   "source": [
    "**5. Visualizar o schema do tópico em streaming**"
   ]
  },
  {
   "cell_type": "code",
   "execution_count": 7,
   "metadata": {},
   "outputs": [
    {
     "name": "stdout",
     "output_type": "stream",
     "text": [
      "root\n",
      " |-- key: binary (nullable = true)\n",
      " |-- value: binary (nullable = true)\n",
      " |-- topic: string (nullable = true)\n",
      " |-- partition: integer (nullable = true)\n",
      " |-- offset: long (nullable = true)\n",
      " |-- timestamp: timestamp (nullable = true)\n",
      " |-- timestampType: integer (nullable = true)\n",
      "\n"
     ]
    }
   ],
   "source": [
    "topic_read_streaming.printSchema()"
   ]
  },
  {
   "cell_type": "markdown",
   "metadata": {},
   "source": [
    "**6. Alterar o tópico em streaming com o campo key e value convertidos para string**"
   ]
  },
  {
   "cell_type": "code",
   "execution_count": 8,
   "metadata": {},
   "outputs": [],
   "source": [
    "# Alterando o Key e Valeu para String\n",
    "# nao tem como usar o Show pois esta em streaming\n",
    "# tem que salvar e usar o start no console\n",
    "\n",
    "topic_string_streaming = topic_read_streaming.select(col(\"key\").cast(\"string\"),col(\"value\").cast(\"string\"))\n",
    "#topic_string_streaming.show()"
   ]
  },
  {
   "cell_type": "markdown",
   "metadata": {},
   "source": [
    "**7. Salvar o tópico em streaming no tópico topic-kvspark-output a cada 5 segundos**"
   ]
  },
  {
   "cell_type": "code",
   "execution_count": 9,
   "metadata": {},
   "outputs": [],
   "source": [
    "# Leitura\n",
    "topic_string_stream_output = topic_string_streaming.writeStream\\\n",
    "    .format(\"kafka\")\\\n",
    "    .option(\"kafka.bootstrap.servers\",\"kafka:9092\")\\\n",
    "    .option(\"topic\",\"topic-kvspark-output\")\\\n",
    "    .option(\"checkpointLocation\",\"/user/marcos/kafka_checkpoint1\")\\\n",
    "    .trigger(continuous=\"5 second\")\\\n",
    "    .start()\n",
    "# criar um console pra poder aparecer o topic topic-kvspark-output, pois esta lendo apartir da criação do topico e não os\n",
    "# antigos"
   ]
  },
  {
   "cell_type": "code",
   "execution_count": 10,
   "metadata": {},
   "outputs": [
    {
     "data": {
      "text/plain": [
       "{'message': 'Initializing sources',\n",
       " 'isDataAvailable': False,\n",
       " 'isTriggerActive': False}"
      ]
     },
     "execution_count": 10,
     "metadata": {},
     "output_type": "execute_result"
    }
   ],
   "source": [
    "topic_string_stream_output.status"
   ]
  },
  {
   "cell_type": "code",
   "execution_count": 11,
   "metadata": {},
   "outputs": [],
   "source": [
    "# testando leitura do novo topico criado usando o batch\n",
    "topic_read2 = spark.read\\\n",
    "    .format(\"kafka\")\\\n",
    "    .option(\"kafka.bootstrap.servers\",\"kafka:9092\")\\\n",
    "    .option(\"subscribe\",\"topic-kvspark-output\")\\\n",
    "    .load()"
   ]
  },
  {
   "cell_type": "code",
   "execution_count": 12,
   "metadata": {},
   "outputs": [
    {
     "name": "stdout",
     "output_type": "stream",
     "text": [
      "+----+--------------------+---------+------+\n",
      "| key|               value|partition|offset|\n",
      "+----+--------------------+---------+------+\n",
      "|null|           teste 123|        0|     0|\n",
      "|null|              marcos|        0|     1|\n",
      "|null|testando novo top...|        0|     2|\n",
      "|null|leitura stream de...|        0|     3|\n",
      "|   2|                MSG3|        0|     4|\n",
      "|   1|                Msg1|        0|     5|\n",
      "|   1|                MSG2|        0|     6|\n",
      "|   3|                   d|        0|     7|\n",
      "|   4|                   s|        0|     8|\n",
      "|   7|         asdf,75,fds|        0|     9|\n",
      "|   8|         Hello World|        0|    10|\n",
      "|   9|       Vai curintcha|        0|    11|\n",
      "|   1|                 msg|        0|    12|\n",
      "|   1|                   a|        0|    13|\n",
      "|   1|                   b|        0|    14|\n",
      "|   1|                   c|        0|    15|\n",
      "|   1|                   d|        0|    16|\n",
      "|   1|                   e|        0|    17|\n",
      "|   1|                  ef|        0|    18|\n",
      "|   1|                   f|        0|    19|\n",
      "+----+--------------------+---------+------+\n",
      "only showing top 20 rows\n",
      "\n"
     ]
    }
   ],
   "source": [
    "topic_string2 = topic_read2.select(col(\"key\").cast(\"string\"),col(\"value\").cast(\"string\"),\"partition\",\"offset\")\n",
    "topic_string2.show()"
   ]
  },
  {
   "cell_type": "markdown",
   "metadata": {},
   "source": [
    "**8. Salvar o tópico na pasta hdfs://namenode:8020/user/<nome>/Kafka/topic-kvspark-output**"
   ]
  },
  {
   "cell_type": "code",
   "execution_count": null,
   "metadata": {},
   "outputs": [],
   "source": [
    "# caso necessite parar a sessão \n",
    "topic_string_stream_output.stop()"
   ]
  },
  {
   "cell_type": "code",
   "execution_count": 19,
   "metadata": {},
   "outputs": [],
   "source": [
    "topic_string_stream_output = topic_string_streaming.writeStream\\\n",
    "    .format(\"csv\")\\\n",
    "    .option(\"checkpointLocation\",\"/user/marcos/kafka_checkpoint2\")\\\n",
    "    .option(\"path\",\"/user/marcos/kafka/topic_kvspark-output\")\\\n",
    "    .start()"
   ]
  },
  {
   "cell_type": "code",
   "execution_count": 20,
   "metadata": {},
   "outputs": [
    {
     "name": "stdout",
     "output_type": "stream",
     "text": [
      "Found 3 items\r\n",
      "drwxr-xr-x   - root supergroup          0 2021-07-07 00:55 /user/marcos/kafka/topic_kvspark-output/_spark_metadata\r\n",
      "-rw-r--r--   2 root supergroup        161 2021-07-07 00:55 /user/marcos/kafka/topic_kvspark-output/part-00000-fc551508-67a5-4613-a0e7-55777eebc1b2-c000.csv\r\n",
      "-rw-r--r--   2 root supergroup        129 2021-07-07 00:55 /user/marcos/kafka/topic_kvspark-output/part-00001-880b2dd8-21d3-4c09-97a3-7a4880140ee7-c000.csv\r\n"
     ]
    }
   ],
   "source": [
    "!hdfs dfs -ls /user/marcos/kafka/topic_kvspark-output/"
   ]
  },
  {
   "cell_type": "code",
   "execution_count": 21,
   "metadata": {},
   "outputs": [
    {
     "name": "stdout",
     "output_type": "stream",
     "text": [
      "1,Msg1\r\n",
      "1,MSG2\r\n",
      "3,d\r\n",
      "4,s\r\n",
      "7,\"asdf,75,fds\"\r\n",
      "8,Hello World\r\n",
      "9,Vai curintcha\r\n",
      "1,msg\r\n",
      "1,a\r\n",
      "1,b\r\n",
      "1,c\r\n",
      "1,d\r\n",
      "1,e\r\n",
      "1,ef\r\n",
      "1,f\r\n",
      "1,\"g,\"\r\n",
      "4,a\r\n",
      "4,5\r\n",
      "d4,d5\r\n",
      "\"\",teste 123\r\n",
      "\"\",testando novo topico\r\n"
     ]
    }
   ],
   "source": [
    "!hdfs dfs -cat /user/marcos/kafka/topic_kvspark-output/part-00000-fc551508-67a5-4613-a0e7-55777eebc1b2-c000.csv"
   ]
  },
  {
   "cell_type": "code",
   "execution_count": null,
   "metadata": {},
   "outputs": [],
   "source": []
  }
 ],
 "metadata": {
  "kernelspec": {
   "display_name": "PySpark",
   "language": "python",
   "name": "pyspark"
  },
  "language_info": {
   "codemirror_mode": {
    "name": "ipython",
    "version": 3
   },
   "file_extension": ".py",
   "mimetype": "text/x-python",
   "name": "python",
   "nbconvert_exporter": "python",
   "pygments_lexer": "ipython3",
   "version": "3.6.10"
  }
 },
 "nbformat": 4,
 "nbformat_minor": 2
}
